{
 "cells": [
  {
   "cell_type": "markdown",
   "metadata": {},
   "source": [
    "# Sentinel KQL Query Tutorial\n",
    "\n",
    "This notebook demonstrates how to write KQL queries for Microsoft Sentinel."
   ]
  },
  {
   "cell_type": "code",
   "execution_count": null,
   "metadata": {},
   "outputs": [],
   "source": [
    "query = '''\n",
    "SigninLogs\n",
    "| where ResultType == \"50126\"\n",
    "| summarize count() by UserPrincipalName, bin(TimeGenerated, 1h)\n",
    "''' \n",
    "print(query)"
   ]
  }
 ],
 "metadata": {
  "kernelspec": {
   "display_name": "Python 3",
   "language": "python",
   "name": "python3"
  },
  "language_info": {
   "name": "python",
   "version": "3.x"
  }
 },
 "nbformat": 4,
 "nbformat_minor": 2
}
